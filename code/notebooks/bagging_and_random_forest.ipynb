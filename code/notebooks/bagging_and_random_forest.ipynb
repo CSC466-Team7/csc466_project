{
 "cells": [
  {
   "cell_type": "code",
   "execution_count": 35,
   "metadata": {
    "id": "IIBCxP6ynhLb",
    "tags": [
     "hide"
    ]
   },
   "outputs": [],
   "source": [
    "from sklearn.datasets import make_regression\n",
    "from numpy import mean\n",
    "from numpy import std\n",
    "from sklearn.datasets import make_regression\n",
    "from sklearn.model_selection import cross_val_score\n",
    "from sklearn.model_selection import RepeatedKFold\n",
    "from sklearn.ensemble import BaggingClassifier\n",
    "from sklearn.datasets import load_boston\n",
    "import pandas as pd\n",
    "from sklearn.ensemble import RandomForestClassifier"
   ]
  },
  {
   "cell_type": "markdown",
   "metadata": {
    "id": "etnnlYFfjZ7w"
   },
   "source": [
    "## Ensemble model with Bagging\n",
    "\n",
    "The guiding principle behind ensemble models is to leverage a combination of weak learners to create a strong learner. Bagging does this by creating subsets of the training data through resampling, and training an ML model of choice (in our example, we will use Decision Trees) on the substes of training data. This produces numerous models, each slightly different than others. By averaging the prediction of these inidividual learners for a given obervation, we should get more robust results that accounts for variance in the test data than we would get from an individual learner."
   ]
  },
  {
   "cell_type": "markdown",
   "metadata": {
    "id": "2MLIf65GkvE3"
   },
   "source": [
    "### Pseudocode for Bagging"
   ]
  },
  {
   "cell_type": "code",
   "execution_count": null,
   "metadata": {
    "cellView": "code",
    "id": "89-1G9bafA04"
   },
   "outputs": [],
   "source": [
    "\"\"\"\n",
    "Create our strong learner by bagging weak learners. Note that the code below \n",
    "will not run, it is only an outline of the general implementation.\n",
    "\"\"\"\n",
    "# Assume `data` is defined\n",
    "trees = []\n",
    "number_of_trees = 100\n",
    "for i in range(number_of_trees):\n",
    "  subset_data = resample(data)\n",
    "  tree = DecisionTreeModel().fit(subset_data)\n",
    "  trees.append(tree)\n",
    "\n",
    "\"\"\"\n",
    "Predict for target variable by running all weak learners on an observation\n",
    "and averaging the result (or taking the mode if target variable is categorical).\n",
    "\"\"\"\n",
    "# Assume `x_test` is defined where x_test is the observation we will to predict for\n",
    "results = []\n",
    "for tree in trees:\n",
    "  tree.predict(x_test)\n",
    "pred = results.mean()"
   ]
  },
  {
   "cell_type": "markdown",
   "metadata": {
    "id": "APv09D-wmk30"
   },
   "source": [
    "### Bagging (Classifier) with SK Learn"
   ]
  },
  {
   "cell_type": "markdown",
   "metadata": {
    "id": "Xis6nGWxoLGh"
   },
   "source": [
    "For this example, we will load the boston home prices dataset provided by sklearn. The target variable will be the median home prices.\n",
    "\n",
    "Learn more about this dataset [here](https://scikit-learn.org/stable/datasets/toy_dataset.html#boston-dataset)."
   ]
  },
  {
   "cell_type": "code",
   "execution_count": 5,
   "metadata": {
    "tags": [
     "hide"
    ]
   },
   "outputs": [],
   "source": [
    "from pathlib import Path\n",
    "home = str(Path.home()) # all other paths are relative to this path. change to something else if this is not the case on your system\n",
    "%load_ext autoreload\n",
    "%autoreload 2"
   ]
  },
  {
   "cell_type": "markdown",
   "metadata": {},
   "source": [
    "First, let's run our previous tutorial to import our custom decision tree classifier from the previous tutorial."
   ]
  },
  {
   "cell_type": "code",
   "execution_count": 38,
   "metadata": {},
   "outputs": [
    {
     "name": "stdout",
     "output_type": "stream",
     "text": [
      "Accuracy: 0.7912087912087912\n",
      "F1 score: 0.7999999999999999\n",
      "{\n",
      "    \"thal/7\": {\n",
      "        \"0\": {\n",
      "            \"sex/0\": {\n",
      "                \"0\": 1,\n",
      "                \"1\": 0\n",
      "            }\n",
      "        },\n",
      "        \"1\": {\n",
      "            \"ca/6\": {\n",
      "                \"0\": {\n",
      "                    \"restecg/3\": {\n",
      "                        \"0\": 1,\n",
      "                        \"1\": {\n",
      "                            \"slope/5\": {\n",
      "                                \"0\": 0,\n",
      "                                \"1\": 0\n",
      "                            }\n",
      "                        }\n",
      "                    }\n",
      "                },\n",
      "                \"1\": 0,\n",
      "                \"2\": 0,\n",
      "                \"3\": 0\n",
      "            }\n",
      "        },\n",
      "        \"2\": {\n",
      "            \"ca/6\": {\n",
      "                \"0\": {\n",
      "                    \"restecg/3\": {\n",
      "                        \"0\": {\n",
      "                            \"cp/1\": {\n",
      "                                \"0\": {\n",
      "                                    \"slope/5\": {\n",
      "                                        \"1\": 1,\n",
      "                                        \"2\": {\n",
      "                                            \"sex/0\": {\n",
      "                                                \"0\": 1,\n",
      "                                                \"1\": 1\n",
      "                                            }\n",
      "                                        }\n",
      "                                    }\n",
      "                                },\n",
      "                                \"1\": {\n",
      "                                    \"sex/0\": {\n",
      "                                        \"0\": 1,\n",
      "                                        \"1\": {\n",
      "                                            \"slope/5\": {\n",
      "                                                \"1\": 0,\n",
      "                                                \"2\": 1\n",
      "                                            }\n",
      "                                        }\n",
      "                                    }\n",
      "                                },\n",
      "                                \"2\": 1,\n",
      "                                \"3\": {\n",
      "                                    \"sex/0\": {\n",
      "                                        \"0\": 1,\n",
      "                                        \"1\": {\n",
      "                                            \"exang/4\": {\n",
      "                                                \"0\": 0,\n",
      "                                                \"1\": 1\n",
      "                                            }\n",
      "                                        }\n",
      "                                    }\n",
      "                                }\n",
      "                            }\n",
      "                        },\n",
      "                        \"1\": {\n",
      "                            \"cp/1\": {\n",
      "                                \"0\": {\n",
      "                                    \"exang/4\": {\n",
      "                                        \"0\": 1,\n",
      "                                        \"1\": {\n",
      "                                            \"slope/5\": {\n",
      "                                                \"1\": 0,\n",
      "                                                \"2\": 1\n",
      "                                            }\n",
      "                                        }\n",
      "                                    }\n",
      "                                },\n",
      "                                \"1\": 1,\n",
      "                                \"2\": {\n",
      "                                    \"sex/0\": {\n",
      "                                        \"0\": 1,\n",
      "                                        \"1\": {\n",
      "                                            \"exang/4\": {\n",
      "                                                \"0\": {\n",
      "                                                    \"slope/5\": {\n",
      "                                                        \"0\": 1,\n",
      "                                                        \"1\": 0,\n",
      "                                                        \"2\": 1\n",
      "                                                    }\n",
      "                                                },\n",
      "                                                \"1\": 1\n",
      "                                            }\n",
      "                                        }\n",
      "                                    }\n",
      "                                },\n",
      "                                \"3\": 1\n",
      "                            }\n",
      "                        },\n",
      "                        \"2\": {\n",
      "                            \"cp/1\": {\n",
      "                                \"0\": 0,\n",
      "                                \"2\": 1\n",
      "                            }\n",
      "                        }\n",
      "                    }\n",
      "                },\n",
      "                \"1\": {\n",
      "                    \"cp/1\": {\n",
      "                        \"0\": 0,\n",
      "                        \"1\": 1,\n",
      "                        \"2\": 1,\n",
      "                        \"3\": 0\n",
      "                    }\n",
      "                },\n",
      "                \"2\": {\n",
      "                    \"exang/4\": {\n",
      "                        \"0\": {\n",
      "                            \"fbs/2\": {\n",
      "                                \"0\": {\n",
      "                                    \"sex/0\": {\n",
      "                                        \"0\": 1,\n",
      "                                        \"1\": {\n",
      "                                            \"restecg/3\": {\n",
      "                                                \"0\": 1,\n",
      "                                                \"1\": 0\n",
      "                                            }\n",
      "                                        }\n",
      "                                    }\n",
      "                                },\n",
      "                                \"1\": 0\n",
      "                            }\n",
      "                        },\n",
      "                        \"1\": 0\n",
      "                    }\n",
      "                },\n",
      "                \"3\": {\n",
      "                    \"cp/1\": {\n",
      "                        \"0\": 0,\n",
      "                        \"2\": {\n",
      "                            \"fbs/2\": {\n",
      "                                \"0\": 0,\n",
      "                                \"1\": 1\n",
      "                            }\n",
      "                        }\n",
      "                    }\n",
      "                },\n",
      "                \"4\": 1\n",
      "            }\n",
      "        },\n",
      "        \"3\": {\n",
      "            \"cp/1\": {\n",
      "                \"0\": {\n",
      "                    \"ca/6\": {\n",
      "                        \"0\": {\n",
      "                            \"slope/5\": {\n",
      "                                \"0\": 0,\n",
      "                                \"1\": 0,\n",
      "                                \"2\": {\n",
      "                                    \"restecg/3\": {\n",
      "                                        \"0\": {\n",
      "                                            \"exang/4\": {\n",
      "                                                \"0\": 0,\n",
      "                                                \"1\": 0\n",
      "                                            }\n",
      "                                        },\n",
      "                                        \"1\": {\n",
      "                                            \"exang/4\": {\n",
      "                                                \"0\": 1,\n",
      "                                                \"1\": 0\n",
      "                                            }\n",
      "                                        }\n",
      "                                    }\n",
      "                                }\n",
      "                            }\n",
      "                        },\n",
      "                        \"1\": {\n",
      "                            \"slope/5\": {\n",
      "                                \"1\": {\n",
      "                                    \"restecg/3\": {\n",
      "                                        \"0\": 0,\n",
      "                                        \"1\": {\n",
      "                                            \"exang/4\": {\n",
      "                                                \"0\": 0,\n",
      "                                                \"1\": 0\n",
      "                                            }\n",
      "                                        },\n",
      "                                        \"2\": 0\n",
      "                                    }\n",
      "                                },\n",
      "                                \"2\": 0\n",
      "                            }\n",
      "                        },\n",
      "                        \"2\": 0,\n",
      "                        \"3\": 0,\n",
      "                        \"4\": 0\n",
      "                    }\n",
      "                },\n",
      "                \"1\": {\n",
      "                    \"slope/5\": {\n",
      "                        \"0\": 0,\n",
      "                        \"1\": 1,\n",
      "                        \"2\": {\n",
      "                            \"fbs/2\": {\n",
      "                                \"0\": {\n",
      "                                    \"restecg/3\": {\n",
      "                                        \"0\": 1,\n",
      "                                        \"1\": 0\n",
      "                                    }\n",
      "                                },\n",
      "                                \"1\": 1\n",
      "                            }\n",
      "                        }\n",
      "                    }\n",
      "                },\n",
      "                \"2\": {\n",
      "                    \"slope/5\": {\n",
      "                        \"1\": {\n",
      "                            \"ca/6\": {\n",
      "                                \"0\": {\n",
      "                                    \"exang/4\": {\n",
      "                                        \"0\": 1,\n",
      "                                        \"1\": {\n",
      "                                            \"fbs/2\": {\n",
      "                                                \"0\": {\n",
      "                                                    \"restecg/3\": {\n",
      "                                                        \"0\": 1,\n",
      "                                                        \"1\": 0\n",
      "                                                    }\n",
      "                                                },\n",
      "                                                \"1\": 0\n",
      "                                            }\n",
      "                                        }\n",
      "                                    }\n",
      "                                },\n",
      "                                \"1\": 0,\n",
      "                                \"3\": 0\n",
      "                            }\n",
      "                        },\n",
      "                        \"2\": 1\n",
      "                    }\n",
      "                },\n",
      "                \"3\": {\n",
      "                    \"fbs/2\": {\n",
      "                        \"0\": {\n",
      "                            \"restecg/3\": {\n",
      "                                \"0\": 1,\n",
      "                                \"1\": {\n",
      "                                    \"slope/5\": {\n",
      "                                        \"1\": 0,\n",
      "                                        \"2\": 1\n",
      "                                    }\n",
      "                                }\n",
      "                            }\n",
      "                        },\n",
      "                        \"1\": 1\n",
      "                    }\n",
      "                }\n",
      "            }\n",
      "        }\n",
      "    }\n",
      "}\n"
     ]
    }
   ],
   "source": [
    "%run heart_classifier_with_sklearn.ipynb"
   ]
  },
  {
   "cell_type": "code",
   "execution_count": 19,
   "metadata": {
    "colab": {
     "base_uri": "https://localhost:8080/",
     "height": 408
    },
    "id": "jxpmsQi0nwxL",
    "outputId": "343747c3-3d2b-46ee-b0b0-c5838b59e4e9"
   },
   "outputs": [
    {
     "data": {
      "text/html": [
       "<div>\n",
       "<style scoped>\n",
       "    .dataframe tbody tr th:only-of-type {\n",
       "        vertical-align: middle;\n",
       "    }\n",
       "\n",
       "    .dataframe tbody tr th {\n",
       "        vertical-align: top;\n",
       "    }\n",
       "\n",
       "    .dataframe thead th {\n",
       "        text-align: right;\n",
       "    }\n",
       "</style>\n",
       "<table border=\"1\" class=\"dataframe\">\n",
       "  <thead>\n",
       "    <tr style=\"text-align: right;\">\n",
       "      <th></th>\n",
       "      <th>sex</th>\n",
       "      <th>cp</th>\n",
       "      <th>fbs</th>\n",
       "      <th>restecg</th>\n",
       "      <th>exang</th>\n",
       "      <th>slope</th>\n",
       "      <th>ca</th>\n",
       "      <th>thal</th>\n",
       "    </tr>\n",
       "  </thead>\n",
       "  <tbody>\n",
       "    <tr>\n",
       "      <th>0</th>\n",
       "      <td>1</td>\n",
       "      <td>3</td>\n",
       "      <td>1</td>\n",
       "      <td>0</td>\n",
       "      <td>0</td>\n",
       "      <td>0</td>\n",
       "      <td>0</td>\n",
       "      <td>1</td>\n",
       "    </tr>\n",
       "    <tr>\n",
       "      <th>1</th>\n",
       "      <td>1</td>\n",
       "      <td>2</td>\n",
       "      <td>0</td>\n",
       "      <td>1</td>\n",
       "      <td>0</td>\n",
       "      <td>0</td>\n",
       "      <td>0</td>\n",
       "      <td>2</td>\n",
       "    </tr>\n",
       "    <tr>\n",
       "      <th>2</th>\n",
       "      <td>0</td>\n",
       "      <td>1</td>\n",
       "      <td>0</td>\n",
       "      <td>0</td>\n",
       "      <td>0</td>\n",
       "      <td>2</td>\n",
       "      <td>0</td>\n",
       "      <td>2</td>\n",
       "    </tr>\n",
       "    <tr>\n",
       "      <th>3</th>\n",
       "      <td>1</td>\n",
       "      <td>1</td>\n",
       "      <td>0</td>\n",
       "      <td>1</td>\n",
       "      <td>0</td>\n",
       "      <td>2</td>\n",
       "      <td>0</td>\n",
       "      <td>2</td>\n",
       "    </tr>\n",
       "    <tr>\n",
       "      <th>4</th>\n",
       "      <td>0</td>\n",
       "      <td>0</td>\n",
       "      <td>0</td>\n",
       "      <td>1</td>\n",
       "      <td>1</td>\n",
       "      <td>2</td>\n",
       "      <td>0</td>\n",
       "      <td>2</td>\n",
       "    </tr>\n",
       "  </tbody>\n",
       "</table>\n",
       "</div>"
      ],
      "text/plain": [
       "   sex  cp  fbs  restecg  exang  slope  ca  thal\n",
       "0    1   3    1        0      0      0   0     1\n",
       "1    1   2    0        1      0      0   0     2\n",
       "2    0   1    0        0      0      2   0     2\n",
       "3    1   1    0        1      0      2   0     2\n",
       "4    0   0    0        1      1      2   0     2"
      ]
     },
     "metadata": {},
     "output_type": "display_data"
    },
    {
     "data": {
      "text/plain": [
       "0      1\n",
       "1      1\n",
       "2      1\n",
       "3      1\n",
       "4      1\n",
       "      ..\n",
       "298    0\n",
       "299    0\n",
       "300    0\n",
       "301    0\n",
       "302    0\n",
       "Name: disease_present, Length: 303, dtype: int64"
      ]
     },
     "metadata": {},
     "output_type": "display_data"
    }
   ],
   "source": [
    "X = X2 # From the previous notebook\n",
    "y = t # From the previous notebook\n",
    "display(X.head())\n",
    "display(y)"
   ]
  },
  {
   "cell_type": "markdown",
   "metadata": {
    "id": "3nD1X8WsqJxn"
   },
   "source": [
    "We will now evaluate the `f1` score for an ensemble model with the following number of learners: 1, 10, 25, 50"
   ]
  },
  {
   "cell_type": "code",
   "execution_count": 33,
   "metadata": {
    "colab": {
     "base_uri": "https://localhost:8080/",
     "height": 204
    },
    "id": "YHn50IkqmqJS",
    "outputId": "46f3a171-1b5b-4a84-e028-280c792d8f04"
   },
   "outputs": [
    {
     "data": {
      "text/html": [
       "<div>\n",
       "<style scoped>\n",
       "    .dataframe tbody tr th:only-of-type {\n",
       "        vertical-align: middle;\n",
       "    }\n",
       "\n",
       "    .dataframe tbody tr th {\n",
       "        vertical-align: top;\n",
       "    }\n",
       "\n",
       "    .dataframe thead th {\n",
       "        text-align: right;\n",
       "    }\n",
       "</style>\n",
       "<table border=\"1\" class=\"dataframe\">\n",
       "  <thead>\n",
       "    <tr style=\"text-align: right;\">\n",
       "      <th></th>\n",
       "      <th>1</th>\n",
       "      <th>10</th>\n",
       "      <th>25</th>\n",
       "      <th>50</th>\n",
       "    </tr>\n",
       "  </thead>\n",
       "  <tbody>\n",
       "    <tr>\n",
       "      <th>0</th>\n",
       "      <td>0.774194</td>\n",
       "      <td>0.750000</td>\n",
       "      <td>0.787879</td>\n",
       "      <td>0.750000</td>\n",
       "    </tr>\n",
       "    <tr>\n",
       "      <th>1</th>\n",
       "      <td>0.687500</td>\n",
       "      <td>0.687500</td>\n",
       "      <td>0.727273</td>\n",
       "      <td>0.727273</td>\n",
       "    </tr>\n",
       "    <tr>\n",
       "      <th>2</th>\n",
       "      <td>0.687500</td>\n",
       "      <td>0.857143</td>\n",
       "      <td>0.888889</td>\n",
       "      <td>0.777778</td>\n",
       "    </tr>\n",
       "    <tr>\n",
       "      <th>3</th>\n",
       "      <td>0.583333</td>\n",
       "      <td>0.454545</td>\n",
       "      <td>0.560000</td>\n",
       "      <td>0.545455</td>\n",
       "    </tr>\n",
       "    <tr>\n",
       "      <th>4</th>\n",
       "      <td>0.787879</td>\n",
       "      <td>0.750000</td>\n",
       "      <td>0.764706</td>\n",
       "      <td>0.727273</td>\n",
       "    </tr>\n",
       "  </tbody>\n",
       "</table>\n",
       "</div>"
      ],
      "text/plain": [
       "         1         10        25        50\n",
       "0  0.774194  0.750000  0.787879  0.750000\n",
       "1  0.687500  0.687500  0.727273  0.727273\n",
       "2  0.687500  0.857143  0.888889  0.777778\n",
       "3  0.583333  0.454545  0.560000  0.545455\n",
       "4  0.787879  0.750000  0.764706  0.727273"
      ]
     },
     "metadata": {},
     "output_type": "display_data"
    }
   ],
   "source": [
    "scores = {1: [], 10: [], 25: [], 50: []}\n",
    "for num_estimators in scores:\n",
    "  # define the model\n",
    "  model = BaggingClassifier(n_estimators=num_estimators, base_estimator=CustomDecisionTreeClassifier())\n",
    "  # evaluate the model\n",
    "  cv = RepeatedKFold(n_splits=10, n_repeats=3, random_state=1)\n",
    "  n_scores = cross_val_score(model, X, y, scoring='f1', cv=cv, n_jobs=-1, error_score='raise')\n",
    "  scores[num_estimators] = n_scores\n",
    "# report performance\n",
    "scores_df = pd.DataFrame.from_dict(scores)\n",
    "display(scores_df.head())"
   ]
  },
  {
   "cell_type": "markdown",
   "metadata": {
    "id": "6abyo82Rr43s"
   },
   "source": [
    "Now that we have multiple scores for various values of `n_estimators`, let's see how the number of estimators fare against each other by averaging the scores for each respective value of `n_estimators`. \n",
    "\n",
    "Here, `n_estimators` is the number of trees in the ensemble model, and we are interested in how this makes a difference to support our understanding of the benefits of bagging to create strong learners."
   ]
  },
  {
   "cell_type": "code",
   "execution_count": 34,
   "metadata": {
    "colab": {
     "base_uri": "https://localhost:8080/"
    },
    "id": "R0T0qmMsrlyT",
    "outputId": "8679288d-6f80-452a-9002-67b62bc008ae"
   },
   "outputs": [
    {
     "data": {
      "text/plain": [
       "1     0.756065\n",
       "10    0.778015\n",
       "25    0.787050\n",
       "50    0.778031\n",
       "dtype: float64"
      ]
     },
     "execution_count": 34,
     "metadata": {},
     "output_type": "execute_result"
    }
   ],
   "source": [
    "scores_df.mean()"
   ]
  },
  {
   "cell_type": "markdown",
   "metadata": {
    "id": "p9BmL7o-sxO8"
   },
   "source": [
    "It is clear from the above, that as the number of estimators (i.e trees) increases, the ensemble model produces more robust predictions in general. Since our decision tree classifier is a really strong learner for the data set we have, there is not much variation."
   ]
  },
  {
   "cell_type": "markdown",
   "metadata": {
    "id": "2wL27bbftUje"
   },
   "source": [
    "## Extending bagging with Random Forests\n",
    "\n",
    "Random forests is very similar to bagging, with the addition of dropping a few features in the training data (i.e only using a subset of features instead of all of them, chose randomly) for each iteration along with resampling it. This adds another level of randmness to the generationg of trees, and further account for variance. "
   ]
  },
  {
   "cell_type": "markdown",
   "metadata": {
    "id": "StBjDKLluTu3"
   },
   "source": [
    "### Pseudocode for Random Forests\n",
    "The pseudocode below is **very** similar to the one above, except for the `resample` line."
   ]
  },
  {
   "cell_type": "code",
   "execution_count": null,
   "metadata": {},
   "outputs": [],
   "source": [
    "\"\"\"\n",
    "Create our strong learner by bagging weak learners. Note that the code below \n",
    "will not run, it is only an outline of the general implementation.\n",
    "\"\"\"\n",
    "# Assume `data` is defined\n",
    "trees = []\n",
    "number_of_trees = 100\n",
    "for i in range(number_of_trees):\n",
    "  subset_data = drop_random_features(resample(data))\n",
    "  tree = DecisionTreeModel().fit(subset_data)\n",
    "  trees.append(tree)\n",
    "\n",
    "\"\"\"\n",
    "Predict for target variable by running all weak learners on an observation\n",
    "and averaging the result (or taking the mode if target variable is categorical).\n",
    "\"\"\"\n",
    "# Assume `x_test` is defined where x_test is the observation we will to predict for\n",
    "results = []\n",
    "for tree in trees:\n",
    "  tree.predict(x_test)\n",
    "pred = results.mean()"
   ]
  },
  {
   "cell_type": "markdown",
   "metadata": {
    "id": "3SwF8D6Nu__E"
   },
   "source": [
    "### Random Forest (Classifier) with SK Learn"
   ]
  },
  {
   "cell_type": "code",
   "execution_count": 36,
   "metadata": {
    "colab": {
     "base_uri": "https://localhost:8080/",
     "height": 204
    },
    "id": "LspmLNMLu8-v",
    "outputId": "f5fcefca-e41a-4190-b288-22843c0a68dc"
   },
   "outputs": [
    {
     "data": {
      "text/html": [
       "<div>\n",
       "<style scoped>\n",
       "    .dataframe tbody tr th:only-of-type {\n",
       "        vertical-align: middle;\n",
       "    }\n",
       "\n",
       "    .dataframe tbody tr th {\n",
       "        vertical-align: top;\n",
       "    }\n",
       "\n",
       "    .dataframe thead th {\n",
       "        text-align: right;\n",
       "    }\n",
       "</style>\n",
       "<table border=\"1\" class=\"dataframe\">\n",
       "  <thead>\n",
       "    <tr style=\"text-align: right;\">\n",
       "      <th></th>\n",
       "      <th>1</th>\n",
       "      <th>10</th>\n",
       "      <th>25</th>\n",
       "      <th>50</th>\n",
       "    </tr>\n",
       "  </thead>\n",
       "  <tbody>\n",
       "    <tr>\n",
       "      <th>0</th>\n",
       "      <td>0.733333</td>\n",
       "      <td>0.774194</td>\n",
       "      <td>0.812500</td>\n",
       "      <td>0.812500</td>\n",
       "    </tr>\n",
       "    <tr>\n",
       "      <th>1</th>\n",
       "      <td>0.687500</td>\n",
       "      <td>0.800000</td>\n",
       "      <td>0.787879</td>\n",
       "      <td>0.787879</td>\n",
       "    </tr>\n",
       "    <tr>\n",
       "      <th>2</th>\n",
       "      <td>0.857143</td>\n",
       "      <td>0.914286</td>\n",
       "      <td>0.888889</td>\n",
       "      <td>0.918919</td>\n",
       "    </tr>\n",
       "    <tr>\n",
       "      <th>3</th>\n",
       "      <td>0.620690</td>\n",
       "      <td>0.615385</td>\n",
       "      <td>0.640000</td>\n",
       "      <td>0.615385</td>\n",
       "    </tr>\n",
       "    <tr>\n",
       "      <th>4</th>\n",
       "      <td>0.727273</td>\n",
       "      <td>0.823529</td>\n",
       "      <td>0.857143</td>\n",
       "      <td>0.823529</td>\n",
       "    </tr>\n",
       "  </tbody>\n",
       "</table>\n",
       "</div>"
      ],
      "text/plain": [
       "         1         10        25        50\n",
       "0  0.733333  0.774194  0.812500  0.812500\n",
       "1  0.687500  0.800000  0.787879  0.787879\n",
       "2  0.857143  0.914286  0.888889  0.918919\n",
       "3  0.620690  0.615385  0.640000  0.615385\n",
       "4  0.727273  0.823529  0.857143  0.823529"
      ]
     },
     "metadata": {},
     "output_type": "display_data"
    }
   ],
   "source": [
    "scores = {1: [], 10: [], 25: [], 50: []}\n",
    "for num_estimators in scores:\n",
    "  # define the model\n",
    "  model = RandomForestClassifier(n_estimators=num_estimators)\n",
    "  # evaluate the model\n",
    "  cv = RepeatedKFold(n_splits=10, n_repeats=3, random_state=1)\n",
    "  n_scores = cross_val_score(model, X, y, scoring='f1', cv=cv, n_jobs=-1, error_score='raise')\n",
    "  scores[num_estimators] = n_scores\n",
    "# report performance\n",
    "scores_df = pd.DataFrame.from_dict(scores)\n",
    "display(scores_df.head())"
   ]
  },
  {
   "cell_type": "markdown",
   "metadata": {
    "id": "C5LAKxXXvPZs"
   },
   "source": [
    "Let's perform the same analysis for the number of estimator that we did above. "
   ]
  },
  {
   "cell_type": "code",
   "execution_count": 37,
   "metadata": {
    "colab": {
     "base_uri": "https://localhost:8080/"
    },
    "id": "x9oL6aYwvV0P",
    "outputId": "7426c176-64fd-4a40-df90-ec3d520ba8ba"
   },
   "outputs": [
    {
     "data": {
      "text/plain": [
       "1     0.787345\n",
       "10    0.819488\n",
       "25    0.824294\n",
       "50    0.818179\n",
       "dtype: float64"
      ]
     },
     "execution_count": 37,
     "metadata": {},
     "output_type": "execute_result"
    }
   ],
   "source": [
    "scores_df.mean()"
   ]
  },
  {
   "cell_type": "markdown",
   "metadata": {
    "id": "hm6eHI4BvZX5"
   },
   "source": [
    "The results are consistent with what we observed above. Increasing the number of estimators improves the performance of the ensemble model, supporting the benefit of using an ensemble model as opposed to a single learner. "
   ]
  }
 ],
 "metadata": {
  "celltoolbar": "Tags",
  "colab": {
   "collapsed_sections": [],
   "name": "Bagging and Random Forests.ipynb",
   "provenance": []
  },
  "kernelspec": {
   "display_name": "Python 3",
   "language": "python",
   "name": "python3"
  },
  "language_info": {
   "codemirror_mode": {
    "name": "ipython",
    "version": 3
   },
   "file_extension": ".py",
   "mimetype": "text/x-python",
   "name": "python",
   "nbconvert_exporter": "python",
   "pygments_lexer": "ipython3",
   "version": "3.7.3"
  }
 },
 "nbformat": 4,
 "nbformat_minor": 1
}
